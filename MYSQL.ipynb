{
 "cells": [
  {
   "cell_type": "code",
   "execution_count": 1,
   "id": "ea1a3eaf",
   "metadata": {},
   "outputs": [],
   "source": [
    "import mysql.connector"
   ]
  },
  {
   "cell_type": "code",
   "execution_count": 2,
   "id": "8ac205d3",
   "metadata": {},
   "outputs": [
    {
     "data": {
      "text/plain": [
       "<mysql.connector.connection_cext.CMySQLConnection at 0x251a56913d0>"
      ]
     },
     "execution_count": 2,
     "metadata": {},
     "output_type": "execute_result"
    }
   ],
   "source": [
    "conn= mysql.connector.connect(user='sql7721103', password='TD7jb4H7Fd',\n",
    "                              host='sql7.freesqldatabase.com',\n",
    "                              database='sql7721103',port = \"3306\")\n",
    "conn"
   ]
  },
  {
   "cell_type": "code",
   "execution_count": 3,
   "id": "e1972a02",
   "metadata": {},
   "outputs": [
    {
     "data": {
      "text/plain": [
       "<mysql.connector.cursor_cext.CMySQLCursor at 0x251a5691430>"
      ]
     },
     "execution_count": 3,
     "metadata": {},
     "output_type": "execute_result"
    }
   ],
   "source": [
    "cursor = conn.cursor()\n",
    "cursor"
   ]
  },
  {
   "cell_type": "markdown",
   "id": "21cb890e",
   "metadata": {},
   "source": [
    "# /* find the number of availalbe copies of the book (Dracula) */\n",
    "/*******************************************************/"
   ]
  },
  {
   "cell_type": "code",
   "execution_count": 23,
   "id": "ec5d3c1e",
   "metadata": {},
   "outputs": [
    {
     "data": {
      "text/plain": [
       "[(2,)]"
      ]
     },
     "execution_count": 23,
     "metadata": {},
     "output_type": "execute_result"
    }
   ],
   "source": [
    "\n",
    "cursor.execute(\n",
    "\"\"\" \n",
    "SELECT ( \n",
    "(SELECT COUNT(*) as \"Num copies of the book (Dracula)\" FROM Books\n",
    "WHERE Title = \"Dracula\")\n",
    "-\n",
    "(SELECT count(*) FROM Loans as L\n",
    "INNER JOIN Books as b ON L.BookID = b.BookID\n",
    "WHERE b.Title = \"Dracula\" AND ReturnedDate IS NULL)\n",
    ") AS \"availalbe copies of the book (Dracula)\";\n",
    "\n",
    "\"\"\"\n",
    ")\n",
    "cursor.fetchall()"
   ]
  },
  {
   "cell_type": "markdown",
   "id": "76f9e0d3",
   "metadata": {},
   "source": [
    "# /* check total copies of the book */"
   ]
  },
  {
   "cell_type": "code",
   "execution_count": 24,
   "id": "648df6e6",
   "metadata": {},
   "outputs": [
    {
     "data": {
      "text/plain": [
       "[(3,)]"
      ]
     },
     "execution_count": 24,
     "metadata": {},
     "output_type": "execute_result"
    }
   ],
   "source": [
    "cursor.execute(\n",
    "\"\"\" \n",
    "SELECT COUNT(*) as \"Num copies of the book (Dracula)\" FROM Books\n",
    "WHERE Title = \"Dracula\"\n",
    "\n",
    "\"\"\"\n",
    ")\n",
    "cursor.fetchall()"
   ]
  },
  {
   "cell_type": "markdown",
   "id": "78970f63",
   "metadata": {},
   "source": [
    "# /* current total loans of the book */"
   ]
  },
  {
   "cell_type": "code",
   "execution_count": 26,
   "id": "068b62d6",
   "metadata": {},
   "outputs": [
    {
     "data": {
      "text/plain": [
       "[(32,)]"
      ]
     },
     "execution_count": 26,
     "metadata": {},
     "output_type": "execute_result"
    }
   ],
   "source": [
    "cursor.execute(\n",
    "\"\"\" \n",
    "SELECT COUNT(*) as Total_Loans  FROM Loans as L\n",
    "INNER JOIN Books as b ON L.BookID = b.BookID\n",
    "WHERE b.Title = \"Dracula\"\n",
    "\n",
    "\"\"\"\n",
    ")\n",
    "cursor.fetchall()"
   ]
  },
  {
   "cell_type": "markdown",
   "id": "cc6eac4e",
   "metadata": {},
   "source": [
    "# /* total available books of dracula */"
   ]
  },
  {
   "cell_type": "code",
   "execution_count": 28,
   "id": "2aed98ac",
   "metadata": {},
   "outputs": [
    {
     "data": {
      "text/plain": [
       "[(2,)]"
      ]
     },
     "execution_count": 28,
     "metadata": {},
     "output_type": "execute_result"
    }
   ],
   "source": [
    "cursor.execute(\n",
    "\"\"\" \n",
    "SELECT ( \n",
    "(SELECT COUNT(*) as \"Num copies of the book (Dracula)\" FROM Books\n",
    "WHERE Title = \"Dracula\")\n",
    "-\n",
    "(SELECT count(*) FROM Loans as L\n",
    "INNER JOIN Books as b ON L.BookID = b.BookID\n",
    "WHERE b.Title = \"Dracula\" AND ReturnedDate IS NULL)\n",
    ") AS \"availalbe copies of the book (Dracula)\";\n",
    "\n",
    "\"\"\"\n",
    ")\n",
    "cursor.fetchall()"
   ]
  },
  {
   "cell_type": "markdown",
   "id": "418819a9",
   "metadata": {},
   "source": [
    "\n",
    "# /* Check books for Due back                             */\n",
    "# /* generate a report of books due back on July 13, 2020 */\n",
    "# /* with patron contact information                      */\n",
    "# /********************************************************/"
   ]
  },
  {
   "cell_type": "code",
   "execution_count": 35,
   "id": "faa77db1",
   "metadata": {},
   "outputs": [
    {
     "data": {
      "text/plain": [
       "[(1996,\n",
       "  10,\n",
       "  99,\n",
       "  '2020-06-29',\n",
       "  '2020-07-13',\n",
       "  None,\n",
       "  'Kala',\n",
       "  'Simonian',\n",
       "  'ksimonian2q@landonhotel.com',\n",
       "  99),\n",
       " (1997,\n",
       "  155,\n",
       "  47,\n",
       "  '2020-06-29',\n",
       "  '2020-07-13',\n",
       "  None,\n",
       "  'Lydie',\n",
       "  'Awmack',\n",
       "  'lawmack1a@samoca.org',\n",
       "  47),\n",
       " (1998,\n",
       "  169,\n",
       "  18,\n",
       "  '2020-06-29',\n",
       "  '2020-07-13',\n",
       "  None,\n",
       "  'Anthe',\n",
       "  'Dinjes',\n",
       "  'adinjesh@samoca.org',\n",
       "  18),\n",
       " (1999,\n",
       "  73,\n",
       "  59,\n",
       "  '2020-06-29',\n",
       "  '2020-07-13',\n",
       "  None,\n",
       "  'Cornelia',\n",
       "  'Koppe',\n",
       "  'ckoppe1m@landonhotel.com',\n",
       "  59)]"
      ]
     },
     "execution_count": 35,
     "metadata": {},
     "output_type": "execute_result"
    }
   ],
   "source": [
    "cursor.execute(\n",
    "\"\"\"\n",
    "SELECT * FROM Loans AS l\n",
    "INNER JOIN Patrons AS p ON l.PatronID = p.PatronID\n",
    "WHERE l.DueDate = \"2020-07-13\"\n",
    "\"\"\"\n",
    ")\n",
    "cursor.fetchall()"
   ]
  },
  {
   "cell_type": "markdown",
   "id": "06ec6ac4",
   "metadata": {},
   "source": [
    "# /* Encourage Patrons to check out books                */\n",
    "# /* generate a report of showing 10 patrons who have\n",
    "# checked out the fewest  .                          */\n",
    "# /*******************************************************/"
   ]
  },
  {
   "cell_type": "code",
   "execution_count": 42,
   "id": "c094666b",
   "metadata": {},
   "outputs": [
    {
     "data": {
      "text/plain": [
       "[(83, 'Caril', 'Matejic', 'cmatejic2a@orangevalleycaa.org', 9),\n",
       " (69, 'Alaster', 'Ruggles', 'aruggles1w@red30design.com', 9),\n",
       " (73, 'Merle', 'Sukbhans', 'msukbhans20@orangevalleycaa.org', 11),\n",
       " (94, 'Curr', 'Fittall', 'cfittall2l@orangevalleycaa.org', 12),\n",
       " (64, 'Norby', 'Sleight', 'nsleight1r@kinetecoinc.com', 12),\n",
       " (50, 'Jack', 'Vaan', 'jvaan@wisdompets.com', 13),\n",
       " (7, 'Cammi', 'Kynett', 'ckynett6@orangevalleycaa.org', 14),\n",
       " (16, 'Carla', 'Swinfen', 'cswinfenf@kinetecoinc.com', 14),\n",
       " (3, 'Aleen', 'Fasey', 'afasey2@kinetecoinc.com', 14),\n",
       " (12, 'Orton', 'Stavers', 'ostaversb@orangevalleycaa.org', 14)]"
      ]
     },
     "execution_count": 42,
     "metadata": {},
     "output_type": "execute_result"
    }
   ],
   "source": [
    "cursor.execute(\n",
    "\"\"\"\n",
    "SELECT l.PatronID , p.FirstName , p.LastName , p.Email , Count(l.PatronID) as TimesOfVisits FROM Loans as l\n",
    "INNER JOIN Patrons as p ON l.PatronID = p.PatronID\n",
    "GROUP BY l.PatronID\n",
    "order by TimesOfVisits\n",
    "LIMIT 10\n",
    "\n",
    "\"\"\"\n",
    ")\n",
    "cursor.fetchall()"
   ]
  },
  {
   "cell_type": "markdown",
   "id": "1532b0e7",
   "metadata": {},
   "source": [
    "# \n",
    "# /* Book Statistics                                      */\n",
    "# /* create a report to show how many books were \n",
    "# published each year.                                    */\n",
    "# /*******************************************************/\n"
   ]
  },
  {
   "cell_type": "code",
   "execution_count": 4,
   "id": "b3dc747b",
   "metadata": {},
   "outputs": [
    {
     "data": {
      "text/plain": [
       "[(1890, 3),\n",
       " (1895, 3),\n",
       " (1847, 2),\n",
       " (1884, 2),\n",
       " (1850, 2),\n",
       " (1911, 2),\n",
       " (1892, 2),\n",
       " (1859, 2),\n",
       " (1922, 2),\n",
       " (1869, 2),\n",
       " (1898, 2),\n",
       " (1899, 2),\n",
       " (1818, 1),\n",
       " (1880, 1),\n",
       " (1902, 1),\n",
       " (1839, 1),\n",
       " (1883, 1),\n",
       " (1905, 1),\n",
       " (1906, 1),\n",
       " (1849, 1),\n",
       " (1886, 1),\n",
       " (1908, 1),\n",
       " (1375, 1),\n",
       " (1887, 1),\n",
       " (1532, 1),\n",
       " (1851, 1),\n",
       " (1889, 1),\n",
       " (1913, 1),\n",
       " (1605, 1),\n",
       " (1852, 1),\n",
       " (1914, 1),\n",
       " (1670, 1),\n",
       " (1854, 1),\n",
       " (1915, 1),\n",
       " (1689, 1),\n",
       " (1858, 1),\n",
       " (1894, 1),\n",
       " (1920, 1),\n",
       " (1726, 1),\n",
       " (1921, 1),\n",
       " (1729, 1),\n",
       " (1861, 1),\n",
       " (1896, 1),\n",
       " (1759, 1),\n",
       " (1865, 1),\n",
       " (1897, 1),\n",
       " (1923, 1),\n",
       " (1791, 1),\n",
       " (1811, 1),\n",
       " (1876, 1),\n",
       " (1813, 1),\n",
       " (1878, 1),\n",
       " (1900, 1),\n",
       " (1815, 1),\n",
       " (1879, 1),\n",
       " (1901, 1)]"
      ]
     },
     "execution_count": 4,
     "metadata": {},
     "output_type": "execute_result"
    }
   ],
   "source": [
    "cursor.execute(\n",
    "\"\"\"\n",
    "SELECT Published, COUNT(DISTINCT(Title)) AS TotalNumberOfPublishedBooks\n",
    "FROM Books\n",
    "GROUP BY Published\n",
    "ORDER BY TotalNumberOfPublishedBooks DESC; \n",
    "\n",
    "\"\"\"\n",
    ")\n",
    "cursor.fetchall()"
   ]
  },
  {
   "cell_type": "markdown",
   "id": "1cc6867a",
   "metadata": {},
   "source": [
    "# /*************************************************************/\n",
    "# /* Book Statistics                                           */\n",
    "# /* create a report to show 5 most popular Books to check out */\n",
    "# /*************************************************************/"
   ]
  },
  {
   "cell_type": "code",
   "execution_count": 8,
   "id": "120c0603",
   "metadata": {},
   "outputs": [
    {
     "data": {
      "text/plain": [
       "[('Frankenstein; Or, The Modern Prometheus', 53),\n",
       " ('The Awakening, and Selected Short Stories', 43),\n",
       " ('The War of the Worlds', 43),\n",
       " ('The Scarlet Letter', 42),\n",
       " ('The Picture of Dorian Gray', 39)]"
      ]
     },
     "execution_count": 8,
     "metadata": {},
     "output_type": "execute_result"
    }
   ],
   "source": [
    "cursor.execute(\n",
    "\"\"\"\n",
    "SELECT b.Title , COUNT(l.LoanID) AS TotalTimesOfLoans FROM Books as b\n",
    "INNER JOIN Loans as l ON l.BookID = b.BookID\n",
    "GROUP BY b.Title \n",
    "ORDER BY TotalTimesOfLoans DESC\n",
    "LIMIT 5;\n",
    "\n",
    "\"\"\"\n",
    ")\n",
    "cursor.fetchall()"
   ]
  },
  {
   "cell_type": "markdown",
   "id": "bcc96024",
   "metadata": {},
   "source": [
    "# /*******************************************************/\n",
    "# /* Add new books to the library                        */\n",
    "# /*******************************************************/"
   ]
  },
  {
   "cell_type": "code",
   "execution_count": 16,
   "id": "f6e1681e",
   "metadata": {},
   "outputs": [
    {
     "name": "stdout",
     "output_type": "stream",
     "text": [
      "Inserted\n"
     ]
    }
   ],
   "source": [
    "\n",
    "sql = (\"INSERT INTO Books\"\n",
    "      \"(BookID ,Title , Author , Published , Barcode )\" \n",
    "      \"VALUES (%s , %s , %s , %s , %s)\")\n",
    "\n",
    "val = (203,\"to infinity and beyond\",\"Eslam\",\"1996\",\"4356455623415\")\n",
    "\n",
    "cursor.execute(sql, val)\n",
    "emp_no = cursor.lastrowid\n",
    "\n",
    "# Make sure data is committed to the database\n",
    "conn.commit()\n",
    "print(\"Inserted\")"
   ]
  },
  {
   "cell_type": "markdown",
   "id": "ee1da93f",
   "metadata": {},
   "source": [
    "# /*******************************************************/\n",
    "# /* Check out Books: books(4043822646, 2855934983) whose patron_email(jvaan@wisdompets.com), loandate=2020-08-25, duedate=2020-09-08, loanid=by_your_choice                            */\n",
    "# /*******************************************************/"
   ]
  },
  {
   "cell_type": "code",
   "execution_count": 13,
   "id": "3a23c065",
   "metadata": {},
   "outputs": [
    {
     "name": "stdout",
     "output_type": "stream",
     "text": [
      "93 11\n",
      "Inserted\n"
     ]
    }
   ],
   "source": [
    "cursor.execute(\n",
    "\"\"\"\n",
    "SELECT BookID FROM Books\n",
    "WHERE Barcode = 4043822646\n",
    "\"\"\"\n",
    ")\n",
    "result_1 = cursor.fetchall()\n",
    "\n",
    "cursor.execute(\n",
    "\"\"\"\n",
    "SELECT BookID FROM Books\n",
    "WHERE Barcode = 2855934983\n",
    "\"\"\"\n",
    ")\n",
    "result_2 = cursor.fetchall()\n",
    "\n",
    "print(result_1[0][0],result_2[0][0])\n",
    "\n",
    "\n",
    "\n",
    "sql = (\"INSERT INTO Loans\"\n",
    "      \"(LoanID ,BookID , PatronID , loandate , duedate )\" \n",
    "      \"VALUES (%s , %s , %s , %s , %s)\")\n",
    "\n",
    "val = (20001,result_1[0][0],50,\"2020-08-25\",\"2020-09-08\")\n",
    "\n",
    "cursor.execute(sql, val)\n",
    "emp_no = cursor.lastrowid\n",
    "\n",
    "# Make sure data is committed to the database\n",
    "conn.commit()\n",
    "print(\"Inserted\")\n",
    "\n",
    "\n",
    "\n",
    "\n",
    "\n"
   ]
  },
  {
   "cell_type": "code",
   "execution_count": 14,
   "id": "4e3703f0",
   "metadata": {},
   "outputs": [
    {
     "name": "stdout",
     "output_type": "stream",
     "text": [
      "Inserted\n"
     ]
    }
   ],
   "source": [
    "\n",
    "\n",
    "sql = (\"INSERT INTO Loans\"\n",
    "      \"(LoanID ,BookID , PatronID , loandate , duedate )\" \n",
    "      \"VALUES (%s , %s , %s , %s , %s)\")\n",
    "\n",
    "val = (20002,result_2[0][0],50,\"2020-08-25\",\"2020-09-08\")\n",
    "\n",
    "cursor.execute(sql, val)\n",
    "emp_no = cursor.lastrowid\n",
    "\n",
    "# Make sure data is committed to the database\n",
    "conn.commit()\n",
    "print(\"Inserted\")\n",
    " \n",
    "    \n"
   ]
  },
  {
   "cell_type": "markdown",
   "id": "2b7000c2",
   "metadata": {},
   "source": [
    "# /*******************************************************/\n",
    "# /* Return books to the library (which have barcode=6435968624) and return this book at this date(2020-07-05)                    */\n",
    "# /*******************************************************/\n"
   ]
  },
  {
   "cell_type": "code",
   "execution_count": 22,
   "id": "98760a39",
   "metadata": {},
   "outputs": [
    {
     "name": "stdout",
     "output_type": "stream",
     "text": [
      "Updated\n"
     ]
    }
   ],
   "source": [
    "cursor.execute(\n",
    "\"\"\"\n",
    "SELECT LoanID as lon_id FROM Loans \n",
    "WHERE ReturnedDate Is NULL And BookID = (\n",
    "SELECT BookID FROM Books\n",
    "WHERE barcode = 6435968624\n",
    ")\n",
    "\"\"\"\n",
    ")\n",
    "LoanID = cursor.fetchall()\n",
    "\n",
    "sql = f\"UPDATE Loans SET ReturnedDate = '2020-07-05' WHERE LoanID = {LoanID[0][0]}\"\n",
    "\n",
    "cursor.execute(sql)\n",
    "conn.commit()\n",
    "print(\"Updated\")"
   ]
  },
  {
   "cell_type": "markdown",
   "id": "5c3cd7ab",
   "metadata": {},
   "source": [
    "# /*******************************************************/\n",
    "# /* Find books to feature for an event                  \n",
    " # create a list of books from 1890s that are\n",
    " # currently available                                    */\n",
    "/*******************************************************/"
   ]
  },
  {
   "cell_type": "code",
   "execution_count": 29,
   "id": "8445963c",
   "metadata": {},
   "outputs": [
    {
     "ename": "ProgrammingError",
     "evalue": "1050 (42S01): Table 'NumpberOFCopies' already exists",
     "output_type": "error",
     "traceback": [
      "\u001b[1;31m---------------------------------------------------------------------------\u001b[0m",
      "\u001b[1;31mMySQLInterfaceError\u001b[0m                       Traceback (most recent call last)",
      "\u001b[1;32m~\\Anaconda3\\lib\\site-packages\\mysql\\connector\\connection_cext.py\u001b[0m in \u001b[0;36mcmd_query\u001b[1;34m(self, query, raw, buffered, raw_as_string)\u001b[0m\n\u001b[0;32m    704\u001b[0m                 \u001b[0mquery\u001b[0m \u001b[1;33m=\u001b[0m \u001b[0mquery\u001b[0m\u001b[1;33m.\u001b[0m\u001b[0mencode\u001b[0m\u001b[1;33m(\u001b[0m\u001b[1;34m\"utf-8\"\u001b[0m\u001b[1;33m)\u001b[0m\u001b[1;33m\u001b[0m\u001b[1;33m\u001b[0m\u001b[0m\n\u001b[1;32m--> 705\u001b[1;33m             self._cmysql.query(\n\u001b[0m\u001b[0;32m    706\u001b[0m                 \u001b[0mquery\u001b[0m\u001b[1;33m,\u001b[0m\u001b[1;33m\u001b[0m\u001b[1;33m\u001b[0m\u001b[0m\n",
      "\u001b[1;31mMySQLInterfaceError\u001b[0m: Table 'NumpberOFCopies' already exists",
      "\nThe above exception was the direct cause of the following exception:\n",
      "\u001b[1;31mProgrammingError\u001b[0m                          Traceback (most recent call last)",
      "\u001b[1;32m~\\AppData\\Local\\Temp\\ipykernel_2820\\320454496.py\u001b[0m in \u001b[0;36m<module>\u001b[1;34m\u001b[0m\n\u001b[1;32m----> 1\u001b[1;33m cursor.execute(\n\u001b[0m\u001b[0;32m      2\u001b[0m \"\"\"\n\u001b[0;32m      3\u001b[0m CREATE VIEW NumpberOFCopies AS (\n\u001b[0;32m      4\u001b[0m \u001b[0mSELECT\u001b[0m \u001b[0mTitle\u001b[0m  \u001b[1;33m,\u001b[0m \u001b[0mCOUNT\u001b[0m\u001b[1;33m(\u001b[0m\u001b[0mTitle\u001b[0m\u001b[1;33m)\u001b[0m \u001b[1;32mas\u001b[0m \u001b[1;34m\"Num_copies\"\u001b[0m \u001b[0mFROM\u001b[0m \u001b[0mBooks\u001b[0m\u001b[1;33m\u001b[0m\u001b[1;33m\u001b[0m\u001b[0m\n\u001b[0;32m      5\u001b[0m \u001b[0mGROUP\u001b[0m \u001b[0mBY\u001b[0m \u001b[0mTitle\u001b[0m\u001b[1;33m\u001b[0m\u001b[1;33m\u001b[0m\u001b[0m\n",
      "\u001b[1;32m~\\Anaconda3\\lib\\site-packages\\mysql\\connector\\cursor_cext.py\u001b[0m in \u001b[0;36mexecute\u001b[1;34m(self, operation, params, multi)\u001b[0m\n\u001b[0;32m    355\u001b[0m \u001b[1;33m\u001b[0m\u001b[0m\n\u001b[0;32m    356\u001b[0m         \u001b[1;32mtry\u001b[0m\u001b[1;33m:\u001b[0m\u001b[1;33m\u001b[0m\u001b[1;33m\u001b[0m\u001b[0m\n\u001b[1;32m--> 357\u001b[1;33m             result = self._connection.cmd_query(\n\u001b[0m\u001b[0;32m    358\u001b[0m                 \u001b[0mstmt\u001b[0m\u001b[1;33m,\u001b[0m\u001b[1;33m\u001b[0m\u001b[1;33m\u001b[0m\u001b[0m\n\u001b[0;32m    359\u001b[0m                 \u001b[0mraw\u001b[0m\u001b[1;33m=\u001b[0m\u001b[0mself\u001b[0m\u001b[1;33m.\u001b[0m\u001b[0m_raw\u001b[0m\u001b[1;33m,\u001b[0m\u001b[1;33m\u001b[0m\u001b[1;33m\u001b[0m\u001b[0m\n",
      "\u001b[1;32m~\\Anaconda3\\lib\\site-packages\\mysql\\connector\\opentelemetry\\context_propagation.py\u001b[0m in \u001b[0;36mwrapper\u001b[1;34m(cnx, *args, **kwargs)\u001b[0m\n\u001b[0;32m     95\u001b[0m         \u001b[1;31m# pylint: disable=possibly-used-before-assignment\u001b[0m\u001b[1;33m\u001b[0m\u001b[1;33m\u001b[0m\u001b[0m\n\u001b[0;32m     96\u001b[0m         \u001b[1;32mif\u001b[0m \u001b[1;32mnot\u001b[0m \u001b[0mOTEL_ENABLED\u001b[0m \u001b[1;32mor\u001b[0m \u001b[1;32mnot\u001b[0m \u001b[0mcnx\u001b[0m\u001b[1;33m.\u001b[0m\u001b[0motel_context_propagation\u001b[0m\u001b[1;33m:\u001b[0m\u001b[1;33m\u001b[0m\u001b[1;33m\u001b[0m\u001b[0m\n\u001b[1;32m---> 97\u001b[1;33m             \u001b[1;32mreturn\u001b[0m \u001b[0mmethod\u001b[0m\u001b[1;33m(\u001b[0m\u001b[0mcnx\u001b[0m\u001b[1;33m,\u001b[0m \u001b[1;33m*\u001b[0m\u001b[0margs\u001b[0m\u001b[1;33m,\u001b[0m \u001b[1;33m**\u001b[0m\u001b[0mkwargs\u001b[0m\u001b[1;33m)\u001b[0m\u001b[1;33m\u001b[0m\u001b[1;33m\u001b[0m\u001b[0m\n\u001b[0m\u001b[0;32m     98\u001b[0m \u001b[1;33m\u001b[0m\u001b[0m\n\u001b[0;32m     99\u001b[0m         \u001b[0mcurrent_span\u001b[0m \u001b[1;33m=\u001b[0m \u001b[0mtrace\u001b[0m\u001b[1;33m.\u001b[0m\u001b[0mget_current_span\u001b[0m\u001b[1;33m(\u001b[0m\u001b[1;33m)\u001b[0m\u001b[1;33m\u001b[0m\u001b[1;33m\u001b[0m\u001b[0m\n",
      "\u001b[1;32m~\\Anaconda3\\lib\\site-packages\\mysql\\connector\\connection_cext.py\u001b[0m in \u001b[0;36mcmd_query\u001b[1;34m(self, query, raw, buffered, raw_as_string)\u001b[0m\n\u001b[0;32m    711\u001b[0m             )\n\u001b[0;32m    712\u001b[0m         \u001b[1;32mexcept\u001b[0m \u001b[0mMySQLInterfaceError\u001b[0m \u001b[1;32mas\u001b[0m \u001b[0merr\u001b[0m\u001b[1;33m:\u001b[0m\u001b[1;33m\u001b[0m\u001b[1;33m\u001b[0m\u001b[0m\n\u001b[1;32m--> 713\u001b[1;33m             raise get_mysql_exception(\n\u001b[0m\u001b[0;32m    714\u001b[0m                 \u001b[0merr\u001b[0m\u001b[1;33m.\u001b[0m\u001b[0merrno\u001b[0m\u001b[1;33m,\u001b[0m \u001b[0mmsg\u001b[0m\u001b[1;33m=\u001b[0m\u001b[0merr\u001b[0m\u001b[1;33m.\u001b[0m\u001b[0mmsg\u001b[0m\u001b[1;33m,\u001b[0m \u001b[0msqlstate\u001b[0m\u001b[1;33m=\u001b[0m\u001b[0merr\u001b[0m\u001b[1;33m.\u001b[0m\u001b[0msqlstate\u001b[0m\u001b[1;33m\u001b[0m\u001b[1;33m\u001b[0m\u001b[0m\n\u001b[0;32m    715\u001b[0m             ) from err\n",
      "\u001b[1;31mProgrammingError\u001b[0m: 1050 (42S01): Table 'NumpberOFCopies' already exists"
     ]
    }
   ],
   "source": [
    "cursor.execute(\n",
    "\"\"\"\n",
    "CREATE VIEW NumpberOFCopies AS (\n",
    "SELECT Title  , COUNT(Title) as \"Num_copies\" FROM Books\n",
    "GROUP BY Title\n",
    ");\n",
    "\n",
    "\"\"\"\n",
    ")\n",
    "cursor.fetchall()\n",
    "\n",
    "\n"
   ]
  },
  {
   "cell_type": "code",
   "execution_count": 31,
   "id": "6bc3b3f9",
   "metadata": {},
   "outputs": [
    {
     "ename": "ProgrammingError",
     "evalue": "1050 (42S01): Table 'NumOFNonReturnedC' already exists",
     "output_type": "error",
     "traceback": [
      "\u001b[1;31m---------------------------------------------------------------------------\u001b[0m",
      "\u001b[1;31mMySQLInterfaceError\u001b[0m                       Traceback (most recent call last)",
      "\u001b[1;32m~\\Anaconda3\\lib\\site-packages\\mysql\\connector\\connection_cext.py\u001b[0m in \u001b[0;36mcmd_query\u001b[1;34m(self, query, raw, buffered, raw_as_string)\u001b[0m\n\u001b[0;32m    704\u001b[0m                 \u001b[0mquery\u001b[0m \u001b[1;33m=\u001b[0m \u001b[0mquery\u001b[0m\u001b[1;33m.\u001b[0m\u001b[0mencode\u001b[0m\u001b[1;33m(\u001b[0m\u001b[1;34m\"utf-8\"\u001b[0m\u001b[1;33m)\u001b[0m\u001b[1;33m\u001b[0m\u001b[1;33m\u001b[0m\u001b[0m\n\u001b[1;32m--> 705\u001b[1;33m             self._cmysql.query(\n\u001b[0m\u001b[0;32m    706\u001b[0m                 \u001b[0mquery\u001b[0m\u001b[1;33m,\u001b[0m\u001b[1;33m\u001b[0m\u001b[1;33m\u001b[0m\u001b[0m\n",
      "\u001b[1;31mMySQLInterfaceError\u001b[0m: Table 'NumOFNonReturnedC' already exists",
      "\nThe above exception was the direct cause of the following exception:\n",
      "\u001b[1;31mProgrammingError\u001b[0m                          Traceback (most recent call last)",
      "\u001b[1;32m~\\AppData\\Local\\Temp\\ipykernel_2820\\38080287.py\u001b[0m in \u001b[0;36m<module>\u001b[1;34m\u001b[0m\n\u001b[1;32m----> 1\u001b[1;33m cursor.execute(\n\u001b[0m\u001b[0;32m      2\u001b[0m \"\"\"\n\u001b[0;32m      3\u001b[0m CREATE VIEW NumOFNonReturnedC AS (\n\u001b[0;32m      4\u001b[0m \u001b[0mSELECT\u001b[0m \u001b[0mb\u001b[0m\u001b[1;33m.\u001b[0m\u001b[0mTitle\u001b[0m \u001b[1;33m,\u001b[0m\u001b[0mCount\u001b[0m\u001b[1;33m(\u001b[0m\u001b[0mb\u001b[0m\u001b[1;33m.\u001b[0m\u001b[0mTitle\u001b[0m\u001b[1;33m)\u001b[0m \u001b[1;32mas\u001b[0m \u001b[0mCountofNon\u001b[0m \u001b[0mFROM\u001b[0m \u001b[0mBooks\u001b[0m \u001b[0mAS\u001b[0m \u001b[0mb\u001b[0m\u001b[1;33m\u001b[0m\u001b[1;33m\u001b[0m\u001b[0m\n\u001b[0;32m      5\u001b[0m \u001b[0mINNER\u001b[0m \u001b[0mJOIN\u001b[0m \u001b[0mLoans\u001b[0m \u001b[0mAS\u001b[0m \u001b[0ml\u001b[0m \u001b[0mON\u001b[0m \u001b[0mb\u001b[0m\u001b[1;33m.\u001b[0m\u001b[0mBookID\u001b[0m \u001b[1;33m=\u001b[0m \u001b[0ml\u001b[0m\u001b[1;33m.\u001b[0m\u001b[0mBookID\u001b[0m\u001b[1;33m\u001b[0m\u001b[1;33m\u001b[0m\u001b[0m\n",
      "\u001b[1;32m~\\Anaconda3\\lib\\site-packages\\mysql\\connector\\cursor_cext.py\u001b[0m in \u001b[0;36mexecute\u001b[1;34m(self, operation, params, multi)\u001b[0m\n\u001b[0;32m    355\u001b[0m \u001b[1;33m\u001b[0m\u001b[0m\n\u001b[0;32m    356\u001b[0m         \u001b[1;32mtry\u001b[0m\u001b[1;33m:\u001b[0m\u001b[1;33m\u001b[0m\u001b[1;33m\u001b[0m\u001b[0m\n\u001b[1;32m--> 357\u001b[1;33m             result = self._connection.cmd_query(\n\u001b[0m\u001b[0;32m    358\u001b[0m                 \u001b[0mstmt\u001b[0m\u001b[1;33m,\u001b[0m\u001b[1;33m\u001b[0m\u001b[1;33m\u001b[0m\u001b[0m\n\u001b[0;32m    359\u001b[0m                 \u001b[0mraw\u001b[0m\u001b[1;33m=\u001b[0m\u001b[0mself\u001b[0m\u001b[1;33m.\u001b[0m\u001b[0m_raw\u001b[0m\u001b[1;33m,\u001b[0m\u001b[1;33m\u001b[0m\u001b[1;33m\u001b[0m\u001b[0m\n",
      "\u001b[1;32m~\\Anaconda3\\lib\\site-packages\\mysql\\connector\\opentelemetry\\context_propagation.py\u001b[0m in \u001b[0;36mwrapper\u001b[1;34m(cnx, *args, **kwargs)\u001b[0m\n\u001b[0;32m     95\u001b[0m         \u001b[1;31m# pylint: disable=possibly-used-before-assignment\u001b[0m\u001b[1;33m\u001b[0m\u001b[1;33m\u001b[0m\u001b[0m\n\u001b[0;32m     96\u001b[0m         \u001b[1;32mif\u001b[0m \u001b[1;32mnot\u001b[0m \u001b[0mOTEL_ENABLED\u001b[0m \u001b[1;32mor\u001b[0m \u001b[1;32mnot\u001b[0m \u001b[0mcnx\u001b[0m\u001b[1;33m.\u001b[0m\u001b[0motel_context_propagation\u001b[0m\u001b[1;33m:\u001b[0m\u001b[1;33m\u001b[0m\u001b[1;33m\u001b[0m\u001b[0m\n\u001b[1;32m---> 97\u001b[1;33m             \u001b[1;32mreturn\u001b[0m \u001b[0mmethod\u001b[0m\u001b[1;33m(\u001b[0m\u001b[0mcnx\u001b[0m\u001b[1;33m,\u001b[0m \u001b[1;33m*\u001b[0m\u001b[0margs\u001b[0m\u001b[1;33m,\u001b[0m \u001b[1;33m**\u001b[0m\u001b[0mkwargs\u001b[0m\u001b[1;33m)\u001b[0m\u001b[1;33m\u001b[0m\u001b[1;33m\u001b[0m\u001b[0m\n\u001b[0m\u001b[0;32m     98\u001b[0m \u001b[1;33m\u001b[0m\u001b[0m\n\u001b[0;32m     99\u001b[0m         \u001b[0mcurrent_span\u001b[0m \u001b[1;33m=\u001b[0m \u001b[0mtrace\u001b[0m\u001b[1;33m.\u001b[0m\u001b[0mget_current_span\u001b[0m\u001b[1;33m(\u001b[0m\u001b[1;33m)\u001b[0m\u001b[1;33m\u001b[0m\u001b[1;33m\u001b[0m\u001b[0m\n",
      "\u001b[1;32m~\\Anaconda3\\lib\\site-packages\\mysql\\connector\\connection_cext.py\u001b[0m in \u001b[0;36mcmd_query\u001b[1;34m(self, query, raw, buffered, raw_as_string)\u001b[0m\n\u001b[0;32m    711\u001b[0m             )\n\u001b[0;32m    712\u001b[0m         \u001b[1;32mexcept\u001b[0m \u001b[0mMySQLInterfaceError\u001b[0m \u001b[1;32mas\u001b[0m \u001b[0merr\u001b[0m\u001b[1;33m:\u001b[0m\u001b[1;33m\u001b[0m\u001b[1;33m\u001b[0m\u001b[0m\n\u001b[1;32m--> 713\u001b[1;33m             raise get_mysql_exception(\n\u001b[0m\u001b[0;32m    714\u001b[0m                 \u001b[0merr\u001b[0m\u001b[1;33m.\u001b[0m\u001b[0merrno\u001b[0m\u001b[1;33m,\u001b[0m \u001b[0mmsg\u001b[0m\u001b[1;33m=\u001b[0m\u001b[0merr\u001b[0m\u001b[1;33m.\u001b[0m\u001b[0mmsg\u001b[0m\u001b[1;33m,\u001b[0m \u001b[0msqlstate\u001b[0m\u001b[1;33m=\u001b[0m\u001b[0merr\u001b[0m\u001b[1;33m.\u001b[0m\u001b[0msqlstate\u001b[0m\u001b[1;33m\u001b[0m\u001b[1;33m\u001b[0m\u001b[0m\n\u001b[0;32m    715\u001b[0m             ) from err\n",
      "\u001b[1;31mProgrammingError\u001b[0m: 1050 (42S01): Table 'NumOFNonReturnedC' already exists"
     ]
    }
   ],
   "source": [
    "cursor.execute(\n",
    "\"\"\"\n",
    "CREATE VIEW NumOFNonReturnedC AS (\n",
    "SELECT b.Title ,Count(b.Title) as CountofNon FROM Books AS b\n",
    "INNER JOIN Loans AS l ON b.BookID = l.BookID\n",
    "INNER JOIN NumpberOFCopies AS n on n.Title = b.Title\n",
    "WHERE (Published between 1890 and 1899)  AND ReturnedDate IS NULL\n",
    "group by b.Title\n",
    ");\n",
    "\"\"\"\n",
    ")\n",
    "cursor.fetchall()\n"
   ]
  },
  {
   "cell_type": "code",
   "execution_count": 33,
   "id": "5ff0ada0",
   "metadata": {},
   "outputs": [
    {
     "data": {
      "text/plain": [
       "[('The Picture of Dorian Gray', 'Oscar Wilde', 1890),\n",
       " ('The Importance of Being Earnest: A Trivial Comedy for Serious People',\n",
       "  'Oscar Wilde',\n",
       "  1895),\n",
       " ('An Occurrence at Owl Creek Bridge', 'Ambrose Bierce', 1890),\n",
       " ('Also sprach Zarathustra', 'Friedrich Wilhelm Nietzsche', 1896),\n",
       " ('Dracula', 'Bram Stoker', 1897)]"
      ]
     },
     "execution_count": 33,
     "metadata": {},
     "output_type": "execute_result"
    }
   ],
   "source": [
    "cursor.execute(\n",
    "\"\"\"\n",
    "SELECT distinct(b.Title) as ListOFBooks , b.Author , b.Published FROM Books AS b\n",
    "INNER JOIN Loans AS l ON b.BookID = l.BookID\n",
    "INNER JOIN NumpberOFCopies AS n ON n.Title = b.Title\n",
    "INNER JOIN NumOFNonReturnedC AS non ON non.Title = b.Title\n",
    "WHERE (Published between 1890 and 1899) and n.Num_copies > non.CountofNon \n",
    "\"\"\"\n",
    ")\n",
    "\n",
    "cursor.fetchall()"
   ]
  },
  {
   "cell_type": "markdown",
   "id": "157422d2",
   "metadata": {},
   "source": [
    "# # GitHup Link\n"
   ]
  },
  {
   "cell_type": "code",
   "execution_count": null,
   "id": "dd3fc693",
   "metadata": {},
   "outputs": [],
   "source": []
  }
 ],
 "metadata": {
  "kernelspec": {
   "display_name": "Python 3 (ipykernel)",
   "language": "python",
   "name": "python3"
  },
  "language_info": {
   "codemirror_mode": {
    "name": "ipython",
    "version": 3
   },
   "file_extension": ".py",
   "mimetype": "text/x-python",
   "name": "python",
   "nbconvert_exporter": "python",
   "pygments_lexer": "ipython3",
   "version": "3.9.13"
  }
 },
 "nbformat": 4,
 "nbformat_minor": 5
}
